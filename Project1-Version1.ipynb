{
 "cells": [
  {
   "cell_type": "code",
   "execution_count": null,
   "id": "082430fc",
   "metadata": {},
   "outputs": [],
   "source": [
    " "
   ]
  },
  {
   "cell_type": "code",
   "execution_count": 6,
   "id": "1450fb5b",
   "metadata": {},
   "outputs": [
    {
     "data": {
      "text/plain": [
       "Text(0.5, 1.0, 'Algebra')"
      ]
     },
     "execution_count": 6,
     "metadata": {},
     "output_type": "execute_result"
    },
    {
     "data": {
      "image/png": "[encoded data removed]",
      "text/plain": [
       "<Figure size 432x432 with 3 Axes>"
      ]
     },
     "metadata": {
      "needs_background": "light"
     },
     "output_type": "display_data"
    }
   ],
   "source": [
    "# Ian Hochstead\n",
    "# Professor Imran\n",
    "# Data Analytics in Python\n",
    "# Project 1\n",
    "# June 2021\n",
    "#\n",
    "# I decided to study Regents scores as compared\n",
    "# with sample size for larger high schools \n",
    "# for two regents exams, Common Core Algebra\n",
    "# and Common Core English.  Looking at the \n",
    "# plots, for English, high schools with more \n",
    "# 1100 students seem to have lower passing \n",
    "# rates.  For Algebra, the \"cut-off\" seems \n",
    "# to be lower, with high schools over 1000 \n",
    "# having lower passing rates.  \n",
    "# I also created a bar chart showing passing \n",
    "# rates in the three years data was present.\n",
    "# And also general data about the data set \n",
    "# is available in a fourth version.\n",
    "\n",
    "# Version 1 - Algebra\n",
    "\n",
    "import pandas as pd\n",
    "import matplotlib.pyplot as plt\n",
    "import seaborn as sns\n",
    "\n",
    "# Read in the dataframe (csv file)\n",
    "# My off-line dataset\n",
    "# df = pd.read_csv('C:\\\\Users\\\\ian\\\\Downloads\\\\LGA\\\\regents.csv')\n",
    "df = pd.read_csv('https://raw.githubusercontent.com/CunyLaguardiaDataAnalytics/datasets/master/2014-15_To_2016-17_School-_Level_NYC_Regents_Report_For_All_Variables.csv')\n",
    "# Clean the data - remove some nonsensical values \n",
    "notnumbers = df [ df['Number Scoring Below 65'] == \"s\" ].index\n",
    "df.drop(notnumbers, inplace = True)\n",
    "# This analysis is only considering high schools\n",
    "notHighSchool = df[ df['School Level'] != 'High school'].index\n",
    "df.drop(notHighSchool, inplace = True)\n",
    "# This data analysis is only considering the year 2017\n",
    "notRecentYear = df[ df['Year'] != 2017].index\n",
    "df.drop(notRecentYear, inplace = True)\n",
    "# Set regents to plot to be algebra\n",
    "# Version 1\n",
    "textRegents = \"Algebra\"\n",
    "# Set regents to plot to be english\n",
    "# Version 2\n",
    "#textRegents = \"English\"\n",
    "specificRegents = df[df['Regents Exam'] != \"Common Core \" + textRegents].index\n",
    "df.drop(specificRegents, inplace = True)\n",
    "# This data analysis is only considering large class sizes,\n",
    "# class sizes of 500 or more students\n",
    "groups = df[ df['Total Tested'] < 500].index\n",
    "df.drop(groups, inplace = True)\n",
    "# Re-index the data - this removes \"holes\" in the \n",
    "# data set and makes df.tail() more informative\n",
    "df = df.reset_index(drop=True)\n",
    "# Plot \n",
    "# Version 1 and Version 2\n",
    "sns.jointplot(x = 'Percent Scoring 65 or Above', y = 'Total Tested', data = df)\n",
    "# Show on the plot the regents scores being used\n",
    "plt.title(textRegents)\n",
    "# Version 3\n",
    "# Show a bar graph of passing in multiple years\n",
    "#plt.bar(df['Year'], df['Percent Scoring 65 or Above'])\n",
    "# Debug Version - simple show the last \"row\" of the data\n",
    "#df.tail(1)\n",
    "# Version 4 \n",
    "# Show general information about the data set, \n",
    "# such as maximum and minimum.\n",
    "#df.describe()\n"
   ]
  },
  {
   "cell_type": "code",
   "execution_count": null,
   "id": "de455f89",
   "metadata": {},
   "outputs": [],
   "source": []
  },
  {
   "cell_type": "code",
   "execution_count": null,
   "id": "4971a898",
   "metadata": {},
   "outputs": [],
   "source": []
  },
  {
   "cell_type": "code",
   "execution_count": null,
   "id": "a24cb687",
   "metadata": {},
   "outputs": [],
   "source": []
  }
 ],
 "metadata": {
  "kernelspec": {
   "display_name": "Python 3",
   "language": "python",
   "name": "python3"
  },
  "language_info": {
   "codemirror_mode": {
    "name": "ipython",
    "version": 3
   },
   "file_extension": ".py",
   "mimetype": "text/x-python",
   "name": "python",
   "nbconvert_exporter": "python",
   "pygments_lexer": "ipython3",
   "version": "3.8.8"
  }
 },
 "nbformat": 4,
 "nbformat_minor": 5
}
